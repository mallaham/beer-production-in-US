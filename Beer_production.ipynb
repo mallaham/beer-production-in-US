{
 "cells": [
  {
   "cell_type": "markdown",
   "metadata": {},
   "source": [
    "# Visualizing Beer Production in the U.S."
   ]
  },
  {
   "cell_type": "code",
   "execution_count": 1,
   "metadata": {
    "collapsed": true
   },
   "outputs": [],
   "source": [
    "import pandas as pd\n",
    "import numpy as np\n",
    "import seaborn as sns\n",
    "import matplotlib.pyplot as plt\n",
    "import warnings\n",
    "warnings.filterwarnings('ignore')\n",
    "%matplotlib inline"
   ]
  },
  {
   "cell_type": "code",
   "execution_count": 2,
   "metadata": {
    "collapsed": true
   },
   "outputs": [],
   "source": [
    "beer_production = pd.read_csv('/Users/Mowafak/Documents/Kaggle/Beer_Consumption/aggr-data-beer-2010-2015_bottles-cans.csv')"
   ]
  },
  {
   "cell_type": "code",
   "execution_count": 3,
   "metadata": {
    "collapsed": false
   },
   "outputs": [
    {
     "name": "stdout",
     "output_type": "stream",
     "text": [
      "<class 'pandas.core.frame.DataFrame'>\n",
      "RangeIndex: 51 entries, 0 to 50\n",
      "Data columns (total 7 columns):\n",
      "State    51 non-null object\n",
      "2010     50 non-null object\n",
      "2011     50 non-null object\n",
      "2012     50 non-null object\n",
      "2013     51 non-null object\n",
      "2014     51 non-null object\n",
      "2015     51 non-null object\n",
      "dtypes: object(7)\n",
      "memory usage: 2.9+ KB\n"
     ]
    }
   ],
   "source": [
    "beer_production.info()"
   ]
  },
  {
   "cell_type": "code",
   "execution_count": 4,
   "metadata": {
    "collapsed": false
   },
   "outputs": [
    {
     "data": {
      "text/html": [
       "<div>\n",
       "<table border=\"1\" class=\"dataframe\">\n",
       "  <thead>\n",
       "    <tr style=\"text-align: right;\">\n",
       "      <th></th>\n",
       "      <th>State</th>\n",
       "      <th>2010</th>\n",
       "      <th>2011</th>\n",
       "      <th>2012</th>\n",
       "      <th>2013</th>\n",
       "      <th>2014</th>\n",
       "      <th>2015</th>\n",
       "    </tr>\n",
       "  </thead>\n",
       "  <tbody>\n",
       "    <tr>\n",
       "      <th>0</th>\n",
       "      <td>AK</td>\n",
       "      <td>80,889.21</td>\n",
       "      <td>94,781.57</td>\n",
       "      <td>105,416.32</td>\n",
       "      <td>112,008.59</td>\n",
       "      <td>129,181.74</td>\n",
       "      <td>126,309.22</td>\n",
       "    </tr>\n",
       "    <tr>\n",
       "      <th>1</th>\n",
       "      <td>AL</td>\n",
       "      <td>0.00</td>\n",
       "      <td>658.96</td>\n",
       "      <td>2,485.79</td>\n",
       "      <td>6,634.43</td>\n",
       "      <td>9,521.26</td>\n",
       "      <td>10,543.00</td>\n",
       "    </tr>\n",
       "    <tr>\n",
       "      <th>2</th>\n",
       "      <td>AR</td>\n",
       "      <td>1,445.82</td>\n",
       "      <td>1,382.06</td>\n",
       "      <td>8.00</td>\n",
       "      <td>8.00</td>\n",
       "      <td>800.09</td>\n",
       "      <td>872.11</td>\n",
       "    </tr>\n",
       "    <tr>\n",
       "      <th>3</th>\n",
       "      <td>AZ</td>\n",
       "      <td>10,380.26</td>\n",
       "      <td>14,057.56</td>\n",
       "      <td>18,411.25</td>\n",
       "      <td>22,318.65</td>\n",
       "      <td>29,645.05</td>\n",
       "      <td>44,081.10</td>\n",
       "    </tr>\n",
       "    <tr>\n",
       "      <th>4</th>\n",
       "      <td>CA</td>\n",
       "      <td>19,095,643.27</td>\n",
       "      <td>18,204,514.85</td>\n",
       "      <td>18,940,276.02</td>\n",
       "      <td>17,835,501.70</td>\n",
       "      <td>18,052,949.81</td>\n",
       "      <td>17,670,616.67</td>\n",
       "    </tr>\n",
       "    <tr>\n",
       "      <th>5</th>\n",
       "      <td>CO</td>\n",
       "      <td>18,742,266.67</td>\n",
       "      <td>18,820,319.55</td>\n",
       "      <td>19,267,902.29</td>\n",
       "      <td>18,549,122.13</td>\n",
       "      <td>18,035,909.80</td>\n",
       "      <td>17,755,216.77</td>\n",
       "    </tr>\n",
       "    <tr>\n",
       "      <th>6</th>\n",
       "      <td>CT</td>\n",
       "      <td>4,822.66</td>\n",
       "      <td>5,578.56</td>\n",
       "      <td>6,372.31</td>\n",
       "      <td>21,549.90</td>\n",
       "      <td>50,874.70</td>\n",
       "      <td>79,904.60</td>\n",
       "    </tr>\n",
       "    <tr>\n",
       "      <th>7</th>\n",
       "      <td>DC</td>\n",
       "      <td>184.80</td>\n",
       "      <td>332.23</td>\n",
       "      <td>1,727.77</td>\n",
       "      <td>3,546.13</td>\n",
       "      <td>4,265.73</td>\n",
       "      <td>9,222.28</td>\n",
       "    </tr>\n",
       "    <tr>\n",
       "      <th>8</th>\n",
       "      <td>DE</td>\n",
       "      <td>89,753.27</td>\n",
       "      <td>109,745.27</td>\n",
       "      <td>129,493.68</td>\n",
       "      <td>148,156.85</td>\n",
       "      <td>167,806.22</td>\n",
       "      <td>176,483.90</td>\n",
       "    </tr>\n",
       "    <tr>\n",
       "      <th>9</th>\n",
       "      <td>FL</td>\n",
       "      <td>9,232,548.52</td>\n",
       "      <td>9,380,672.31</td>\n",
       "      <td>9,738,023.02</td>\n",
       "      <td>9,521,482.11</td>\n",
       "      <td>9,438,491.14</td>\n",
       "      <td>9,841,609.40</td>\n",
       "    </tr>\n",
       "    <tr>\n",
       "      <th>10</th>\n",
       "      <td>GA</td>\n",
       "      <td>14,321,565.18</td>\n",
       "      <td>14,700,163.67</td>\n",
       "      <td>15,000,803.63</td>\n",
       "      <td>14,681,673.20</td>\n",
       "      <td>13,928,837.73</td>\n",
       "      <td>12,868,266.98</td>\n",
       "    </tr>\n",
       "    <tr>\n",
       "      <th>11</th>\n",
       "      <td>HI</td>\n",
       "      <td>7,518.77</td>\n",
       "      <td>12,683.85</td>\n",
       "      <td>13,350.64</td>\n",
       "      <td>13,208.44</td>\n",
       "      <td>13,039.35</td>\n",
       "      <td>17,643.83</td>\n",
       "    </tr>\n",
       "    <tr>\n",
       "      <th>12</th>\n",
       "      <td>IA</td>\n",
       "      <td>3,817.78</td>\n",
       "      <td>4,178.10</td>\n",
       "      <td>4,309.38</td>\n",
       "      <td>5,519.98</td>\n",
       "      <td>8,090.96</td>\n",
       "      <td>6,886.79</td>\n",
       "    </tr>\n",
       "    <tr>\n",
       "      <th>13</th>\n",
       "      <td>ID</td>\n",
       "      <td>6,143.50</td>\n",
       "      <td>6,407.47</td>\n",
       "      <td>9,112.66</td>\n",
       "      <td>11,093.10</td>\n",
       "      <td>14,718.98</td>\n",
       "      <td>15,257.78</td>\n",
       "    </tr>\n",
       "    <tr>\n",
       "      <th>14</th>\n",
       "      <td>IL</td>\n",
       "      <td>935,134.49</td>\n",
       "      <td>911,312.40</td>\n",
       "      <td>786,867.40</td>\n",
       "      <td>944,038.45</td>\n",
       "      <td>946,824.69</td>\n",
       "      <td>1,177,427.89</td>\n",
       "    </tr>\n",
       "    <tr>\n",
       "      <th>15</th>\n",
       "      <td>IN</td>\n",
       "      <td>13,724.96</td>\n",
       "      <td>19,393.24</td>\n",
       "      <td>32,664.02</td>\n",
       "      <td>37,750.09</td>\n",
       "      <td>48,204.65</td>\n",
       "      <td>55,045.98</td>\n",
       "    </tr>\n",
       "    <tr>\n",
       "      <th>16</th>\n",
       "      <td>KS</td>\n",
       "      <td>4,887.37</td>\n",
       "      <td>9,179.79</td>\n",
       "      <td>9,537.42</td>\n",
       "      <td>11,226.90</td>\n",
       "      <td>15,852.43</td>\n",
       "      <td>19,051.11</td>\n",
       "    </tr>\n",
       "    <tr>\n",
       "      <th>17</th>\n",
       "      <td>KY</td>\n",
       "      <td>68,413.44</td>\n",
       "      <td>58,747.18</td>\n",
       "      <td>70,540.28</td>\n",
       "      <td>78,440.18</td>\n",
       "      <td>85,461.15</td>\n",
       "      <td>99,595.65</td>\n",
       "    </tr>\n",
       "    <tr>\n",
       "      <th>18</th>\n",
       "      <td>LA</td>\n",
       "      <td>71,390.80</td>\n",
       "      <td>81,163.65</td>\n",
       "      <td>98,359.97</td>\n",
       "      <td>101,715.41</td>\n",
       "      <td>109,386.36</td>\n",
       "      <td>109,219.49</td>\n",
       "    </tr>\n",
       "    <tr>\n",
       "      <th>19</th>\n",
       "      <td>MA</td>\n",
       "      <td>72,352.47</td>\n",
       "      <td>91,092.86</td>\n",
       "      <td>107,665.45</td>\n",
       "      <td>127,180.29</td>\n",
       "      <td>132,815.26</td>\n",
       "      <td>139,668.98</td>\n",
       "    </tr>\n",
       "    <tr>\n",
       "      <th>20</th>\n",
       "      <td>MD</td>\n",
       "      <td>63,027.57</td>\n",
       "      <td>74,120.55</td>\n",
       "      <td>75,360.92</td>\n",
       "      <td>89,731.45</td>\n",
       "      <td>102,880.25</td>\n",
       "      <td>113,778.85</td>\n",
       "    </tr>\n",
       "    <tr>\n",
       "      <th>21</th>\n",
       "      <td>ME</td>\n",
       "      <td>88,631.90</td>\n",
       "      <td>114,906.50</td>\n",
       "      <td>124,123.97</td>\n",
       "      <td>122,877.92</td>\n",
       "      <td>131,706.80</td>\n",
       "      <td>136,646.89</td>\n",
       "    </tr>\n",
       "    <tr>\n",
       "      <th>22</th>\n",
       "      <td>MI</td>\n",
       "      <td>129,159.89</td>\n",
       "      <td>198,151.04</td>\n",
       "      <td>284,832.91</td>\n",
       "      <td>272,746.16</td>\n",
       "      <td>419,973.01</td>\n",
       "      <td>541,888.77</td>\n",
       "    </tr>\n",
       "    <tr>\n",
       "      <th>23</th>\n",
       "      <td>MN</td>\n",
       "      <td>212,445.88</td>\n",
       "      <td>259,668.58</td>\n",
       "      <td>232,657.19</td>\n",
       "      <td>253,317.42</td>\n",
       "      <td>285,724.01</td>\n",
       "      <td>314,372.67</td>\n",
       "    </tr>\n",
       "    <tr>\n",
       "      <th>24</th>\n",
       "      <td>MO</td>\n",
       "      <td>12,455,434.53</td>\n",
       "      <td>12,278,066.32</td>\n",
       "      <td>12,808,818.03</td>\n",
       "      <td>12,586,027.39</td>\n",
       "      <td>12,357,181.24</td>\n",
       "      <td>12,493,739.84</td>\n",
       "    </tr>\n",
       "    <tr>\n",
       "      <th>25</th>\n",
       "      <td>MS</td>\n",
       "      <td>5,188.87</td>\n",
       "      <td>6,646.41</td>\n",
       "      <td>8,051.63</td>\n",
       "      <td>10,044.08</td>\n",
       "      <td>13,409.98</td>\n",
       "      <td>11,793.55</td>\n",
       "    </tr>\n",
       "    <tr>\n",
       "      <th>26</th>\n",
       "      <td>MT</td>\n",
       "      <td>42,673.97</td>\n",
       "      <td>50,457.49</td>\n",
       "      <td>52,892.54</td>\n",
       "      <td>55,867.96</td>\n",
       "      <td>64,297.30</td>\n",
       "      <td>68,278.32</td>\n",
       "    </tr>\n",
       "    <tr>\n",
       "      <th>27</th>\n",
       "      <td>NC</td>\n",
       "      <td>6,943,748.84</td>\n",
       "      <td>6,600,785.11</td>\n",
       "      <td>6,735,801.22</td>\n",
       "      <td>6,515,751.81</td>\n",
       "      <td>6,311,082.55</td>\n",
       "      <td>6,028,220.92</td>\n",
       "    </tr>\n",
       "    <tr>\n",
       "      <th>28</th>\n",
       "      <td>ND</td>\n",
       "      <td>NaN</td>\n",
       "      <td>NaN</td>\n",
       "      <td>NaN</td>\n",
       "      <td>133.11</td>\n",
       "      <td>1,363.95</td>\n",
       "      <td>1,891.37</td>\n",
       "    </tr>\n",
       "    <tr>\n",
       "      <th>29</th>\n",
       "      <td>NE</td>\n",
       "      <td>4,950.25</td>\n",
       "      <td>5,885.50</td>\n",
       "      <td>6,780.45</td>\n",
       "      <td>2,073.18</td>\n",
       "      <td>12,738.17</td>\n",
       "      <td>10,792.33</td>\n",
       "    </tr>\n",
       "    <tr>\n",
       "      <th>30</th>\n",
       "      <td>NH</td>\n",
       "      <td>2,885,016.06</td>\n",
       "      <td>2,734,941.12</td>\n",
       "      <td>2,927,305.84</td>\n",
       "      <td>2,854,790.85</td>\n",
       "      <td>2,745,595.26</td>\n",
       "      <td>2,856,383.87</td>\n",
       "    </tr>\n",
       "    <tr>\n",
       "      <th>31</th>\n",
       "      <td>NJ</td>\n",
       "      <td>6,920,666.14</td>\n",
       "      <td>5,908,969.19</td>\n",
       "      <td>4,572,952.86</td>\n",
       "      <td>4,264,380.69</td>\n",
       "      <td>4,316,395.59</td>\n",
       "      <td>3,219,516.57</td>\n",
       "    </tr>\n",
       "    <tr>\n",
       "      <th>32</th>\n",
       "      <td>NM</td>\n",
       "      <td>9,364.70</td>\n",
       "      <td>14,169.83</td>\n",
       "      <td>17,164.28</td>\n",
       "      <td>18,327.17</td>\n",
       "      <td>26,140.30</td>\n",
       "      <td>25,974.86</td>\n",
       "    </tr>\n",
       "    <tr>\n",
       "      <th>33</th>\n",
       "      <td>NV</td>\n",
       "      <td>939.85</td>\n",
       "      <td>1,790.02</td>\n",
       "      <td>3,647.33</td>\n",
       "      <td>4,561.27</td>\n",
       "      <td>6,322.08</td>\n",
       "      <td>6,010.43</td>\n",
       "    </tr>\n",
       "    <tr>\n",
       "      <th>34</th>\n",
       "      <td>NY</td>\n",
       "      <td>6,376,824.80</td>\n",
       "      <td>5,779,655.18</td>\n",
       "      <td>6,830,823.99</td>\n",
       "      <td>7,166,945.25</td>\n",
       "      <td>6,746,563.90</td>\n",
       "      <td>7,218,436.33</td>\n",
       "    </tr>\n",
       "    <tr>\n",
       "      <th>35</th>\n",
       "      <td>OH</td>\n",
       "      <td>18,272,288.93</td>\n",
       "      <td>18,312,552.08</td>\n",
       "      <td>17,318,045.77</td>\n",
       "      <td>16,646,929.63</td>\n",
       "      <td>17,042,634.64</td>\n",
       "      <td>18,042,852.11</td>\n",
       "    </tr>\n",
       "    <tr>\n",
       "      <th>36</th>\n",
       "      <td>OK</td>\n",
       "      <td>2,937.63</td>\n",
       "      <td>3,593.60</td>\n",
       "      <td>3,706.66</td>\n",
       "      <td>3,141.24</td>\n",
       "      <td>5,620.53</td>\n",
       "      <td>6,990.95</td>\n",
       "    </tr>\n",
       "    <tr>\n",
       "      <th>37</th>\n",
       "      <td>OR</td>\n",
       "      <td>659,065.27</td>\n",
       "      <td>772,698.31</td>\n",
       "      <td>847,409.27</td>\n",
       "      <td>935,395.50</td>\n",
       "      <td>1,031,603.39</td>\n",
       "      <td>1,082,117.89</td>\n",
       "    </tr>\n",
       "    <tr>\n",
       "      <th>38</th>\n",
       "      <td>PA</td>\n",
       "      <td>2,685,440.45</td>\n",
       "      <td>3,128,166.80</td>\n",
       "      <td>3,411,033.49</td>\n",
       "      <td>4,003,618.11</td>\n",
       "      <td>4,246,684.37</td>\n",
       "      <td>4,141,056.02</td>\n",
       "    </tr>\n",
       "    <tr>\n",
       "      <th>39</th>\n",
       "      <td>RI</td>\n",
       "      <td>1,613.00</td>\n",
       "      <td>1,692.00</td>\n",
       "      <td>2,021.32</td>\n",
       "      <td>4,181.58</td>\n",
       "      <td>4,949.18</td>\n",
       "      <td>5,592.76</td>\n",
       "    </tr>\n",
       "    <tr>\n",
       "      <th>40</th>\n",
       "      <td>SC</td>\n",
       "      <td>6,346.93</td>\n",
       "      <td>10,771.16</td>\n",
       "      <td>12,903.66</td>\n",
       "      <td>17,725.52</td>\n",
       "      <td>21,211.65</td>\n",
       "      <td>24,319.79</td>\n",
       "    </tr>\n",
       "    <tr>\n",
       "      <th>41</th>\n",
       "      <td>SD</td>\n",
       "      <td>97.60</td>\n",
       "      <td>424.14</td>\n",
       "      <td>619.70</td>\n",
       "      <td>785.06</td>\n",
       "      <td>823.65</td>\n",
       "      <td>1,028.03</td>\n",
       "    </tr>\n",
       "    <tr>\n",
       "      <th>42</th>\n",
       "      <td>TN</td>\n",
       "      <td>112.10</td>\n",
       "      <td>1,051.89</td>\n",
       "      <td>380,277.00</td>\n",
       "      <td>560,336.92</td>\n",
       "      <td>696,681.85</td>\n",
       "      <td>1,073,651.26</td>\n",
       "    </tr>\n",
       "    <tr>\n",
       "      <th>43</th>\n",
       "      <td>TX</td>\n",
       "      <td>18,985,409.81</td>\n",
       "      <td>18,934,858.19</td>\n",
       "      <td>17,941,441.31</td>\n",
       "      <td>18,372,898.87</td>\n",
       "      <td>18,837,767.01</td>\n",
       "      <td>18,138,800.58</td>\n",
       "    </tr>\n",
       "    <tr>\n",
       "      <th>44</th>\n",
       "      <td>UT</td>\n",
       "      <td>28,681.77</td>\n",
       "      <td>40,477.43</td>\n",
       "      <td>62,120.44</td>\n",
       "      <td>80,300.79</td>\n",
       "      <td>101,610.11</td>\n",
       "      <td>117,512.50</td>\n",
       "    </tr>\n",
       "    <tr>\n",
       "      <th>45</th>\n",
       "      <td>VA</td>\n",
       "      <td>12,809,681.79</td>\n",
       "      <td>12,531,661.75</td>\n",
       "      <td>13,408,374.35</td>\n",
       "      <td>12,891,463.92</td>\n",
       "      <td>12,259,344.53</td>\n",
       "      <td>11,190,922.96</td>\n",
       "    </tr>\n",
       "    <tr>\n",
       "      <th>46</th>\n",
       "      <td>VT</td>\n",
       "      <td>248,184.49</td>\n",
       "      <td>289,840.71</td>\n",
       "      <td>273,965.87</td>\n",
       "      <td>271,560.29</td>\n",
       "      <td>258,101.46</td>\n",
       "      <td>264,417.40</td>\n",
       "    </tr>\n",
       "    <tr>\n",
       "      <th>47</th>\n",
       "      <td>WA</td>\n",
       "      <td>128,996.61</td>\n",
       "      <td>121,471.16</td>\n",
       "      <td>116,944.26</td>\n",
       "      <td>125,917.12</td>\n",
       "      <td>140,870.39</td>\n",
       "      <td>163,285.81</td>\n",
       "    </tr>\n",
       "    <tr>\n",
       "      <th>48</th>\n",
       "      <td>WI</td>\n",
       "      <td>10,240,080.70</td>\n",
       "      <td>9,002,320.57</td>\n",
       "      <td>8,884,190.43</td>\n",
       "      <td>9,038,409.69</td>\n",
       "      <td>9,100,215.78</td>\n",
       "      <td>9,089,798.44</td>\n",
       "    </tr>\n",
       "    <tr>\n",
       "      <th>49</th>\n",
       "      <td>WV</td>\n",
       "      <td>569.55</td>\n",
       "      <td>120.33</td>\n",
       "      <td>23.18</td>\n",
       "      <td>87.86</td>\n",
       "      <td>43.45</td>\n",
       "      <td>60.86</td>\n",
       "    </tr>\n",
       "    <tr>\n",
       "      <th>50</th>\n",
       "      <td>WY</td>\n",
       "      <td>1,649.54</td>\n",
       "      <td>1,916.37</td>\n",
       "      <td>2,580.15</td>\n",
       "      <td>2,755.25</td>\n",
       "      <td>2,447.42</td>\n",
       "      <td>3,409.94</td>\n",
       "    </tr>\n",
       "  </tbody>\n",
       "</table>\n",
       "</div>"
      ],
      "text/plain": [
       "   State           2010           2011           2012           2013  \\\n",
       "0     AK      80,889.21      94,781.57     105,416.32     112,008.59   \n",
       "1     AL           0.00         658.96       2,485.79       6,634.43   \n",
       "2     AR       1,445.82       1,382.06           8.00           8.00   \n",
       "3     AZ      10,380.26      14,057.56      18,411.25      22,318.65   \n",
       "4     CA  19,095,643.27  18,204,514.85  18,940,276.02  17,835,501.70   \n",
       "5     CO  18,742,266.67  18,820,319.55  19,267,902.29  18,549,122.13   \n",
       "6     CT       4,822.66       5,578.56       6,372.31      21,549.90   \n",
       "7     DC         184.80         332.23       1,727.77       3,546.13   \n",
       "8     DE      89,753.27     109,745.27     129,493.68     148,156.85   \n",
       "9     FL   9,232,548.52   9,380,672.31   9,738,023.02   9,521,482.11   \n",
       "10    GA  14,321,565.18  14,700,163.67  15,000,803.63  14,681,673.20   \n",
       "11    HI       7,518.77      12,683.85      13,350.64      13,208.44   \n",
       "12    IA       3,817.78       4,178.10       4,309.38       5,519.98   \n",
       "13    ID       6,143.50       6,407.47       9,112.66      11,093.10   \n",
       "14    IL     935,134.49     911,312.40     786,867.40     944,038.45   \n",
       "15    IN      13,724.96      19,393.24      32,664.02      37,750.09   \n",
       "16    KS       4,887.37       9,179.79       9,537.42      11,226.90   \n",
       "17    KY      68,413.44      58,747.18      70,540.28      78,440.18   \n",
       "18    LA      71,390.80      81,163.65      98,359.97     101,715.41   \n",
       "19    MA      72,352.47      91,092.86     107,665.45     127,180.29   \n",
       "20    MD      63,027.57      74,120.55      75,360.92      89,731.45   \n",
       "21    ME      88,631.90     114,906.50     124,123.97     122,877.92   \n",
       "22    MI     129,159.89     198,151.04     284,832.91     272,746.16   \n",
       "23    MN     212,445.88     259,668.58     232,657.19     253,317.42   \n",
       "24    MO  12,455,434.53  12,278,066.32  12,808,818.03  12,586,027.39   \n",
       "25    MS       5,188.87       6,646.41       8,051.63      10,044.08   \n",
       "26    MT      42,673.97      50,457.49      52,892.54      55,867.96   \n",
       "27    NC   6,943,748.84   6,600,785.11   6,735,801.22   6,515,751.81   \n",
       "28    ND            NaN            NaN            NaN         133.11   \n",
       "29    NE       4,950.25       5,885.50       6,780.45       2,073.18   \n",
       "30    NH   2,885,016.06   2,734,941.12   2,927,305.84   2,854,790.85   \n",
       "31    NJ   6,920,666.14   5,908,969.19   4,572,952.86   4,264,380.69   \n",
       "32    NM       9,364.70      14,169.83      17,164.28      18,327.17   \n",
       "33    NV         939.85       1,790.02       3,647.33       4,561.27   \n",
       "34    NY   6,376,824.80   5,779,655.18   6,830,823.99   7,166,945.25   \n",
       "35    OH  18,272,288.93  18,312,552.08  17,318,045.77  16,646,929.63   \n",
       "36    OK       2,937.63       3,593.60       3,706.66       3,141.24   \n",
       "37    OR     659,065.27     772,698.31     847,409.27     935,395.50   \n",
       "38    PA   2,685,440.45   3,128,166.80   3,411,033.49   4,003,618.11   \n",
       "39    RI       1,613.00       1,692.00       2,021.32       4,181.58   \n",
       "40    SC       6,346.93      10,771.16      12,903.66      17,725.52   \n",
       "41    SD          97.60         424.14         619.70         785.06   \n",
       "42    TN         112.10       1,051.89     380,277.00     560,336.92   \n",
       "43    TX  18,985,409.81  18,934,858.19  17,941,441.31  18,372,898.87   \n",
       "44    UT      28,681.77      40,477.43      62,120.44      80,300.79   \n",
       "45    VA  12,809,681.79  12,531,661.75  13,408,374.35  12,891,463.92   \n",
       "46    VT     248,184.49     289,840.71     273,965.87     271,560.29   \n",
       "47    WA     128,996.61     121,471.16     116,944.26     125,917.12   \n",
       "48    WI  10,240,080.70   9,002,320.57   8,884,190.43   9,038,409.69   \n",
       "49    WV         569.55         120.33          23.18          87.86   \n",
       "50    WY       1,649.54       1,916.37       2,580.15       2,755.25   \n",
       "\n",
       "             2014           2015  \n",
       "0      129,181.74     126,309.22  \n",
       "1        9,521.26      10,543.00  \n",
       "2          800.09         872.11  \n",
       "3       29,645.05      44,081.10  \n",
       "4   18,052,949.81  17,670,616.67  \n",
       "5   18,035,909.80  17,755,216.77  \n",
       "6       50,874.70      79,904.60  \n",
       "7        4,265.73       9,222.28  \n",
       "8      167,806.22     176,483.90  \n",
       "9    9,438,491.14   9,841,609.40  \n",
       "10  13,928,837.73  12,868,266.98  \n",
       "11      13,039.35      17,643.83  \n",
       "12       8,090.96       6,886.79  \n",
       "13      14,718.98      15,257.78  \n",
       "14     946,824.69   1,177,427.89  \n",
       "15      48,204.65      55,045.98  \n",
       "16      15,852.43      19,051.11  \n",
       "17      85,461.15      99,595.65  \n",
       "18     109,386.36     109,219.49  \n",
       "19     132,815.26     139,668.98  \n",
       "20     102,880.25     113,778.85  \n",
       "21     131,706.80     136,646.89  \n",
       "22     419,973.01     541,888.77  \n",
       "23     285,724.01     314,372.67  \n",
       "24  12,357,181.24  12,493,739.84  \n",
       "25      13,409.98      11,793.55  \n",
       "26      64,297.30      68,278.32  \n",
       "27   6,311,082.55   6,028,220.92  \n",
       "28       1,363.95       1,891.37  \n",
       "29      12,738.17      10,792.33  \n",
       "30   2,745,595.26   2,856,383.87  \n",
       "31   4,316,395.59   3,219,516.57  \n",
       "32      26,140.30      25,974.86  \n",
       "33       6,322.08       6,010.43  \n",
       "34   6,746,563.90   7,218,436.33  \n",
       "35  17,042,634.64  18,042,852.11  \n",
       "36       5,620.53       6,990.95  \n",
       "37   1,031,603.39   1,082,117.89  \n",
       "38   4,246,684.37   4,141,056.02  \n",
       "39       4,949.18       5,592.76  \n",
       "40      21,211.65      24,319.79  \n",
       "41         823.65       1,028.03  \n",
       "42     696,681.85   1,073,651.26  \n",
       "43  18,837,767.01  18,138,800.58  \n",
       "44     101,610.11     117,512.50  \n",
       "45  12,259,344.53  11,190,922.96  \n",
       "46     258,101.46     264,417.40  \n",
       "47     140,870.39     163,285.81  \n",
       "48   9,100,215.78   9,089,798.44  \n",
       "49          43.45          60.86  \n",
       "50       2,447.42       3,409.94  "
      ]
     },
     "execution_count": 4,
     "metadata": {},
     "output_type": "execute_result"
    }
   ],
   "source": [
    "beer_production"
   ]
  },
  {
   "cell_type": "code",
   "execution_count": 5,
   "metadata": {
    "collapsed": false
   },
   "outputs": [
    {
     "data": {
      "text/html": [
       "<div>\n",
       "<table border=\"1\" class=\"dataframe\">\n",
       "  <thead>\n",
       "    <tr style=\"text-align: right;\">\n",
       "      <th></th>\n",
       "      <th>State</th>\n",
       "      <th>2010</th>\n",
       "      <th>2011</th>\n",
       "      <th>2012</th>\n",
       "      <th>2013</th>\n",
       "      <th>2014</th>\n",
       "      <th>2015</th>\n",
       "    </tr>\n",
       "  </thead>\n",
       "  <tbody>\n",
       "    <tr>\n",
       "      <th>count</th>\n",
       "      <td>51</td>\n",
       "      <td>50</td>\n",
       "      <td>50</td>\n",
       "      <td>50</td>\n",
       "      <td>51</td>\n",
       "      <td>51</td>\n",
       "      <td>51</td>\n",
       "    </tr>\n",
       "    <tr>\n",
       "      <th>unique</th>\n",
       "      <td>51</td>\n",
       "      <td>50</td>\n",
       "      <td>50</td>\n",
       "      <td>50</td>\n",
       "      <td>51</td>\n",
       "      <td>51</td>\n",
       "      <td>51</td>\n",
       "    </tr>\n",
       "    <tr>\n",
       "      <th>top</th>\n",
       "      <td>CO</td>\n",
       "      <td>569.55</td>\n",
       "      <td>12,278,066.32</td>\n",
       "      <td>18,940,276.02</td>\n",
       "      <td>18,372,898.87</td>\n",
       "      <td>12,357,181.24</td>\n",
       "      <td>6,886.79</td>\n",
       "    </tr>\n",
       "    <tr>\n",
       "      <th>freq</th>\n",
       "      <td>1</td>\n",
       "      <td>1</td>\n",
       "      <td>1</td>\n",
       "      <td>1</td>\n",
       "      <td>1</td>\n",
       "      <td>1</td>\n",
       "      <td>1</td>\n",
       "    </tr>\n",
       "  </tbody>\n",
       "</table>\n",
       "</div>"
      ],
      "text/plain": [
       "       State    2010           2011           2012           2013  \\\n",
       "count     51      50             50             50             51   \n",
       "unique    51      50             50             50             51   \n",
       "top       CO  569.55  12,278,066.32  18,940,276.02  18,372,898.87   \n",
       "freq       1       1              1              1              1   \n",
       "\n",
       "                 2014      2015  \n",
       "count              51        51  \n",
       "unique             51        51  \n",
       "top     12,357,181.24  6,886.79  \n",
       "freq                1         1  "
      ]
     },
     "execution_count": 5,
     "metadata": {},
     "output_type": "execute_result"
    }
   ],
   "source": [
    "beer_production.describe()"
   ]
  },
  {
   "cell_type": "markdown",
   "metadata": {},
   "source": [
    "after looking at table, it looks like that something is wrong with the data. It might require some cleaning..."
   ]
  },
  {
   "cell_type": "markdown",
   "metadata": {},
   "source": [
    "### Data cleaning step I:\n",
    "- Checking for missing data"
   ]
  },
  {
   "cell_type": "code",
   "execution_count": 6,
   "metadata": {
    "collapsed": false
   },
   "outputs": [
    {
     "data": {
      "text/plain": [
       "<matplotlib.axes._subplots.AxesSubplot at 0x10ee0d550>"
      ]
     },
     "execution_count": 6,
     "metadata": {},
     "output_type": "execute_result"
    },
    {
     "data": {
      "image/png": "[encoded data removed]",
      "text/plain": [
       "<matplotlib.figure.Figure at 0x10ee1bf28>"
      ]
     },
     "metadata": {},
     "output_type": "display_data"
    }
   ],
   "source": [
    "sns.heatmap(beer_production.isnull(),yticklabels=False,cbar=False,cmap ='YlGnBu')"
   ]
  },
  {
   "cell_type": "markdown",
   "metadata": {},
   "source": [
    "we have some missing data in 2010,2011,2012"
   ]
  },
  {
   "cell_type": "markdown",
   "metadata": {},
   "source": [
    "### Checking where the missing data is coming from?"
   ]
  },
  {
   "cell_type": "code",
   "execution_count": 7,
   "metadata": {
    "collapsed": false
   },
   "outputs": [
    {
     "data": {
      "text/html": [
       "<div>\n",
       "<table border=\"1\" class=\"dataframe\">\n",
       "  <thead>\n",
       "    <tr style=\"text-align: right;\">\n",
       "      <th></th>\n",
       "      <th>State</th>\n",
       "      <th>2010</th>\n",
       "      <th>2011</th>\n",
       "      <th>2012</th>\n",
       "      <th>2013</th>\n",
       "      <th>2014</th>\n",
       "      <th>2015</th>\n",
       "    </tr>\n",
       "  </thead>\n",
       "  <tbody>\n",
       "    <tr>\n",
       "      <th>28</th>\n",
       "      <td>ND</td>\n",
       "      <td>NaN</td>\n",
       "      <td>NaN</td>\n",
       "      <td>NaN</td>\n",
       "      <td>133.11</td>\n",
       "      <td>1,363.95</td>\n",
       "      <td>1,891.37</td>\n",
       "    </tr>\n",
       "  </tbody>\n",
       "</table>\n",
       "</div>"
      ],
      "text/plain": [
       "   State 2010 2011 2012    2013      2014      2015\n",
       "28    ND  NaN  NaN  NaN  133.11  1,363.95  1,891.37"
      ]
     },
     "execution_count": 7,
     "metadata": {},
     "output_type": "execute_result"
    }
   ],
   "source": [
    "beer_production[beer_production.isnull().any(axis=1)] #0 for columns, 1 for rows"
   ]
  },
  {
   "cell_type": "markdown",
   "metadata": {},
   "source": [
    "No data was reported in 2010,2011, and 2012 for North Dakota"
   ]
  },
  {
   "cell_type": "markdown",
   "metadata": {},
   "source": [
    "### Data cleaning step II:\n",
    "- Changing the data type of each entry from string to float\n",
    "- removing commas"
   ]
  },
  {
   "cell_type": "code",
   "execution_count": 8,
   "metadata": {
    "collapsed": false
   },
   "outputs": [],
   "source": [
    "def to_int (production_year):\n",
    "    if(not production_year.isnull().any()):\n",
    "        numbCans = [float(num.replace(',','')) for num in production_year]\n",
    "        new_Data = numbCans\n",
    "        return new_Data\n",
    "    else:\n",
    "        production_year = production_year.replace(np.nan,'0') #replacing empty values by 0\n",
    "        production_year = [float(num.replace(',','')) for num in production_year]\n",
    "        return production_year\n",
    "\n",
    "\n",
    "beerClean = beer_production.drop('State',axis=1).apply(to_int,axis=1)\n",
    "beerClean['State'] = beer_production['State']"
   ]
  },
  {
   "cell_type": "markdown",
   "metadata": {},
   "source": [
    "### Checking for missing data one more time.."
   ]
  },
  {
   "cell_type": "code",
   "execution_count": 9,
   "metadata": {
    "collapsed": false
   },
   "outputs": [
    {
     "data": {
      "text/plain": [
       "<matplotlib.axes._subplots.AxesSubplot at 0x112165e10>"
      ]
     },
     "execution_count": 9,
     "metadata": {},
     "output_type": "execute_result"
    },
    {
     "data": {
      "image/png": "[encoded data removed]",
      "text/plain": [
       "<matplotlib.figure.Figure at 0x10ee1bf60>"
      ]
     },
     "metadata": {},
     "output_type": "display_data"
    }
   ],
   "source": [
    "sns.heatmap(beerClean.isnull(),yticklabels=False,cbar=False,cmap ='YlGnBu')"
   ]
  },
  {
   "cell_type": "markdown",
   "metadata": {},
   "source": [
    "looks very clean!"
   ]
  },
  {
   "cell_type": "code",
   "execution_count": 10,
   "metadata": {
    "collapsed": true
   },
   "outputs": [],
   "source": [
    "import plotly.plotly as py\n",
    "import plotly.graph_objs as go \n",
    "from plotly.offline import download_plotlyjs, init_notebook_mode, plot, iplot"
   ]
  },
  {
   "cell_type": "code",
   "execution_count": 11,
   "metadata": {
    "collapsed": false
   },
   "outputs": [
    {
     "data": {
      "text/html": [
       "<script>requirejs.config({paths: { 'plotly': ['https://cdn.plot.ly/plotly-latest.min']},});if(!window.Plotly) {{require(['plotly'],function(plotly) {window.Plotly=plotly;});}}</script>"
      ],
      "text/plain": [
       "<IPython.core.display.HTML object>"
      ]
     },
     "metadata": {},
     "output_type": "display_data"
    }
   ],
   "source": [
    "init_notebook_mode(connected=True) "
   ]
  },
  {
   "cell_type": "markdown",
   "metadata": {},
   "source": [
    "### Data Processing:\n",
    "- aggregate all the number of cans produced per year in one string for visualization"
   ]
  },
  {
   "cell_type": "code",
   "execution_count": 12,
   "metadata": {
    "collapsed": false
   },
   "outputs": [],
   "source": [
    "def data_to_txt(data_per_state):\n",
    "    return ('<br>'+'2010: '+ str(data_per_state[0])+'<br>'+'2011: '+str(data_per_state[1])+'<br>'+'2012: '+str(data_per_state[2])+'<br>'+'2013: '+str(data_per_state[3])+'<br>'+'2014: '+str(data_per_state[4])+'<br>'+'2015: '+str(data_per_state[5]))\n",
    "\n",
    "beerClean['avrg'] = beerClean.mean(axis=1)\n",
    "beerClean['info'] = beerClean.apply(data_to_txt,axis=1)"
   ]
  },
  {
   "cell_type": "code",
   "execution_count": 13,
   "metadata": {
    "collapsed": false
   },
   "outputs": [],
   "source": [
    "mapdata = dict(type='choropleth',\n",
    "            colorscale = 'YIOrRd',\n",
    "            locations = beerClean['State'],\n",
    "            locationmode = 'USA-states',\n",
    "            text = beerClean['info'],\n",
    "            z= beerClean['avrg'],\n",
    "            marker = dict(line = dict(color = 'rgb(255,255,255)',width = 2))\n",
    "            ) "
   ]
  },
  {
   "cell_type": "code",
   "execution_count": 14,
   "metadata": {
    "collapsed": false
   },
   "outputs": [],
   "source": [
    "layout = dict(title = 'Average Beer Production by State from 2010 to 2015',\n",
    "              geo = dict(scope='usa'))"
   ]
  },
  {
   "cell_type": "code",
   "execution_count": 15,
   "metadata": {
    "collapsed": false
   },
   "outputs": [],
   "source": [
    "choromap = go.Figure(data = [mapdata],layout = layout)"
   ]
  },
  {
   "cell_type": "code",
   "execution_count": 16,
   "metadata": {
    "collapsed": false
   },
   "outputs": [
    {
     "data": {
      "application/vnd.plotly.v1+json": {
       "data": [
        {
         "colorscale": "YIOrRd",
         "locationmode": "USA-states",
         "locations": [
          "AK",
          "AL",
          "AR",
          "AZ",
          "CA",
          "CO",
          "CT",
          "DC",
          "DE",
          "FL",
          "GA",
          "HI",
          "IA",
          "ID",
          "IL",
          "IN",
          "KS",
          "KY",
          "LA",
          "MA",
          "MD",
          "ME",
          "MI",
          "MN",
          "MO",
          "MS",
          "MT",
          "NC",
          "ND",
          "NE",
          "NH",
          "NJ",
          "NM",
          "NV",
          "NY",
          "OH",
          "OK",
          "OR",
          "PA",
          "RI",
          "SC",
          "SD",
          "TN",
          "TX",
          "UT",
          "VA",
          "VT",
          "WA",
          "WI",
          "WV",
          "WY"
         ],
         "marker": {
          "line": {
           "color": "rgb(255,255,255)",
           "width": 2
          }
         },
         "text": [
          "<br>2010: 80889.21<br>2011: 94781.57<br>2012: 105416.32<br>2013: 112008.59<br>2014: 129181.74<br>2015: 126309.22",
          "<br>2010: 0.0<br>2011: 658.96<br>2012: 2485.79<br>2013: 6634.43<br>2014: 9521.26<br>2015: 10543.0",
          "<br>2010: 1445.82<br>2011: 1382.06<br>2012: 8.0<br>2013: 8.0<br>2014: 800.09<br>2015: 872.11",
          "<br>2010: 10380.26<br>2011: 14057.56<br>2012: 18411.25<br>2013: 22318.65<br>2014: 29645.05<br>2015: 44081.1",
          "<br>2010: 19095643.27<br>2011: 18204514.85<br>2012: 18940276.02<br>2013: 17835501.7<br>2014: 18052949.81<br>2015: 17670616.67",
          "<br>2010: 18742266.67<br>2011: 18820319.55<br>2012: 19267902.29<br>2013: 18549122.13<br>2014: 18035909.8<br>2015: 17755216.77",
          "<br>2010: 4822.66<br>2011: 5578.56<br>2012: 6372.31<br>2013: 21549.9<br>2014: 50874.7<br>2015: 79904.6",
          "<br>2010: 184.8<br>2011: 332.23<br>2012: 1727.77<br>2013: 3546.13<br>2014: 4265.73<br>2015: 9222.28",
          "<br>2010: 89753.27<br>2011: 109745.27<br>2012: 129493.68<br>2013: 148156.85<br>2014: 167806.22<br>2015: 176483.9",
          "<br>2010: 9232548.52<br>2011: 9380672.31<br>2012: 9738023.02<br>2013: 9521482.11<br>2014: 9438491.14<br>2015: 9841609.4",
          "<br>2010: 14321565.18<br>2011: 14700163.67<br>2012: 15000803.63<br>2013: 14681673.2<br>2014: 13928837.73<br>2015: 12868266.98",
          "<br>2010: 7518.77<br>2011: 12683.85<br>2012: 13350.64<br>2013: 13208.44<br>2014: 13039.35<br>2015: 17643.83",
          "<br>2010: 3817.78<br>2011: 4178.1<br>2012: 4309.38<br>2013: 5519.98<br>2014: 8090.96<br>2015: 6886.79",
          "<br>2010: 6143.5<br>2011: 6407.47<br>2012: 9112.66<br>2013: 11093.1<br>2014: 14718.98<br>2015: 15257.78",
          "<br>2010: 935134.49<br>2011: 911312.4<br>2012: 786867.4<br>2013: 944038.45<br>2014: 946824.69<br>2015: 1177427.89",
          "<br>2010: 13724.96<br>2011: 19393.24<br>2012: 32664.02<br>2013: 37750.09<br>2014: 48204.65<br>2015: 55045.98",
          "<br>2010: 4887.37<br>2011: 9179.79<br>2012: 9537.42<br>2013: 11226.9<br>2014: 15852.43<br>2015: 19051.11",
          "<br>2010: 68413.44<br>2011: 58747.18<br>2012: 70540.28<br>2013: 78440.18<br>2014: 85461.15<br>2015: 99595.65",
          "<br>2010: 71390.8<br>2011: 81163.65<br>2012: 98359.97<br>2013: 101715.41<br>2014: 109386.36<br>2015: 109219.49",
          "<br>2010: 72352.47<br>2011: 91092.86<br>2012: 107665.45<br>2013: 127180.29<br>2014: 132815.26<br>2015: 139668.98",
          "<br>2010: 63027.57<br>2011: 74120.55<br>2012: 75360.92<br>2013: 89731.45<br>2014: 102880.25<br>2015: 113778.85",
          "<br>2010: 88631.9<br>2011: 114906.5<br>2012: 124123.97<br>2013: 122877.92<br>2014: 131706.8<br>2015: 136646.89",
          "<br>2010: 129159.89<br>2011: 198151.04<br>2012: 284832.91<br>2013: 272746.16<br>2014: 419973.01<br>2015: 541888.77",
          "<br>2010: 212445.88<br>2011: 259668.58<br>2012: 232657.19<br>2013: 253317.42<br>2014: 285724.01<br>2015: 314372.67",
          "<br>2010: 12455434.53<br>2011: 12278066.32<br>2012: 12808818.03<br>2013: 12586027.39<br>2014: 12357181.24<br>2015: 12493739.84",
          "<br>2010: 5188.87<br>2011: 6646.41<br>2012: 8051.63<br>2013: 10044.08<br>2014: 13409.98<br>2015: 11793.55",
          "<br>2010: 42673.97<br>2011: 50457.49<br>2012: 52892.54<br>2013: 55867.96<br>2014: 64297.3<br>2015: 68278.32",
          "<br>2010: 6943748.84<br>2011: 6600785.11<br>2012: 6735801.22<br>2013: 6515751.81<br>2014: 6311082.55<br>2015: 6028220.92",
          "<br>2010: 0.0<br>2011: 0.0<br>2012: 0.0<br>2013: 133.11<br>2014: 1363.95<br>2015: 1891.37",
          "<br>2010: 4950.25<br>2011: 5885.5<br>2012: 6780.45<br>2013: 2073.18<br>2014: 12738.17<br>2015: 10792.33",
          "<br>2010: 2885016.06<br>2011: 2734941.12<br>2012: 2927305.84<br>2013: 2854790.85<br>2014: 2745595.26<br>2015: 2856383.87",
          "<br>2010: 6920666.14<br>2011: 5908969.19<br>2012: 4572952.86<br>2013: 4264380.69<br>2014: 4316395.59<br>2015: 3219516.57",
          "<br>2010: 9364.7<br>2011: 14169.83<br>2012: 17164.28<br>2013: 18327.17<br>2014: 26140.3<br>2015: 25974.86",
          "<br>2010: 939.85<br>2011: 1790.02<br>2012: 3647.33<br>2013: 4561.27<br>2014: 6322.08<br>2015: 6010.43",
          "<br>2010: 6376824.8<br>2011: 5779655.18<br>2012: 6830823.99<br>2013: 7166945.25<br>2014: 6746563.9<br>2015: 7218436.33",
          "<br>2010: 18272288.93<br>2011: 18312552.08<br>2012: 17318045.77<br>2013: 16646929.63<br>2014: 17042634.64<br>2015: 18042852.11",
          "<br>2010: 2937.63<br>2011: 3593.6<br>2012: 3706.66<br>2013: 3141.24<br>2014: 5620.53<br>2015: 6990.95",
          "<br>2010: 659065.27<br>2011: 772698.31<br>2012: 847409.27<br>2013: 935395.5<br>2014: 1031603.39<br>2015: 1082117.89",
          "<br>2010: 2685440.45<br>2011: 3128166.8<br>2012: 3411033.49<br>2013: 4003618.11<br>2014: 4246684.37<br>2015: 4141056.02",
          "<br>2010: 1613.0<br>2011: 1692.0<br>2012: 2021.32<br>2013: 4181.58<br>2014: 4949.18<br>2015: 5592.76",
          "<br>2010: 6346.93<br>2011: 10771.16<br>2012: 12903.66<br>2013: 17725.52<br>2014: 21211.65<br>2015: 24319.79",
          "<br>2010: 97.6<br>2011: 424.14<br>2012: 619.7<br>2013: 785.06<br>2014: 823.65<br>2015: 1028.03",
          "<br>2010: 112.1<br>2011: 1051.89<br>2012: 380277.0<br>2013: 560336.92<br>2014: 696681.85<br>2015: 1073651.26",
          "<br>2010: 18985409.81<br>2011: 18934858.19<br>2012: 17941441.31<br>2013: 18372898.87<br>2014: 18837767.01<br>2015: 18138800.58",
          "<br>2010: 28681.77<br>2011: 40477.43<br>2012: 62120.44<br>2013: 80300.79<br>2014: 101610.11<br>2015: 117512.5",
          "<br>2010: 12809681.79<br>2011: 12531661.75<br>2012: 13408374.35<br>2013: 12891463.92<br>2014: 12259344.53<br>2015: 11190922.96",
          "<br>2010: 248184.49<br>2011: 289840.71<br>2012: 273965.87<br>2013: 271560.29<br>2014: 258101.46<br>2015: 264417.4",
          "<br>2010: 128996.61<br>2011: 121471.16<br>2012: 116944.26<br>2013: 125917.12<br>2014: 140870.39<br>2015: 163285.81",
          "<br>2010: 10240080.7<br>2011: 9002320.57<br>2012: 8884190.43<br>2013: 9038409.69<br>2014: 9100215.78<br>2015: 9089798.44",
          "<br>2010: 569.55<br>2011: 120.33<br>2012: 23.18<br>2013: 87.86<br>2014: 43.45<br>2015: 60.86",
          "<br>2010: 1649.54<br>2011: 1916.37<br>2012: 2580.15<br>2013: 2755.25<br>2014: 2447.42<br>2015: 3409.94"
         ],
         "type": "choropleth",
         "z": [
          108097.77500000001,
          4973.906666666667,
          752.68,
          23148.978333333333,
          18299917.053333335,
          18528456.201666664,
          28183.788333333334,
          3213.156666666667,
          136906.53166666665,
          9525471.083333332,
          14250218.398333335,
          12907.480000000001,
          5467.165,
          10455.581666666667,
          950267.5533333332,
          34463.823333333334,
          11622.503333333334,
          76866.31333333334,
          95205.94666666667,
          111795.88500000001,
          86483.265,
          119815.66333333333,
          307791.9633333333,
          259697.625,
          12496544.558333335,
          9189.086666666668,
          55744.59666666667,
          6522565.074999999,
          564.7383333333333,
          7203.313333333334,
          2834005.5,
          4867146.840000001,
          18523.523333333334,
          3878.4966666666674,
          6686541.574999999,
          17605883.86,
          4331.768333333333,
          888048.2716666666,
          3602666.5399999996,
          3341.64,
          15546.45166666667,
          629.6966666666667,
          452018.50333333336,
          18535195.96166667,
          71783.84,
          12515241.550000003,
          267678.36999999994,
          132914.225,
          9225835.935,
          150.87166666666667,
          2459.778333333333
         ]
        }
       ],
       "layout": {
        "geo": {
         "scope": "usa"
        },
        "title": "Average Beer Production by State from 2010 to 2015"
       }
      },
      "text/html": [
       "<div id=\"359e3029-c7b0-49c6-b194-4e6a56840ae5\" style=\"height: 525px; width: 100%;\" class=\"plotly-graph-div\"></div><script type=\"text/javascript\">require([\"plotly\"], function(Plotly) { window.PLOTLYENV=window.PLOTLYENV || {};window.PLOTLYENV.BASE_URL=\"https://plot.ly\";Plotly.newPlot(\"359e3029-c7b0-49c6-b194-4e6a56840ae5\", [{\"marker\": {\"line\": {\"width\": 2, \"color\": \"rgb(255,255,255)\"}}, \"locationmode\": \"USA-states\", \"colorscale\": \"YIOrRd\", \"type\": \"choropleth\", \"z\": [108097.77500000001, 4973.906666666667, 752.68, 23148.978333333333, 18299917.053333335, 18528456.201666664, 28183.788333333334, 3213.156666666667, 136906.53166666665, 9525471.083333332, 14250218.398333335, 12907.480000000001, 5467.165, 10455.581666666667, 950267.5533333332, 34463.823333333334, 11622.503333333334, 76866.31333333334, 95205.94666666667, 111795.88500000001, 86483.265, 119815.66333333333, 307791.9633333333, 259697.625, 12496544.558333335, 9189.086666666668, 55744.59666666667, 6522565.074999999, 564.7383333333333, 7203.313333333334, 2834005.5, 4867146.840000001, 18523.523333333334, 3878.4966666666674, 6686541.574999999, 17605883.86, 4331.768333333333, 888048.2716666666, 3602666.5399999996, 3341.64, 15546.45166666667, 629.6966666666667, 452018.50333333336, 18535195.96166667, 71783.84, 12515241.550000003, 267678.36999999994, 132914.225, 9225835.935, 150.87166666666667, 2459.778333333333], \"locations\": [\"AK\", \"AL\", \"AR\", \"AZ\", \"CA\", \"CO\", \"CT\", \"DC\", \"DE\", \"FL\", \"GA\", \"HI\", \"IA\", \"ID\", \"IL\", \"IN\", \"KS\", \"KY\", \"LA\", \"MA\", \"MD\", \"ME\", \"MI\", \"MN\", \"MO\", \"MS\", \"MT\", \"NC\", \"ND\", \"NE\", \"NH\", \"NJ\", \"NM\", \"NV\", \"NY\", \"OH\", \"OK\", \"OR\", \"PA\", \"RI\", \"SC\", \"SD\", \"TN\", \"TX\", \"UT\", \"VA\", \"VT\", \"WA\", \"WI\", \"WV\", \"WY\"], \"text\": [\"<br>2010: 80889.21<br>2011: 94781.57<br>2012: 105416.32<br>2013: 112008.59<br>2014: 129181.74<br>2015: 126309.22\", \"<br>2010: 0.0<br>2011: 658.96<br>2012: 2485.79<br>2013: 6634.43<br>2014: 9521.26<br>2015: 10543.0\", \"<br>2010: 1445.82<br>2011: 1382.06<br>2012: 8.0<br>2013: 8.0<br>2014: 800.09<br>2015: 872.11\", \"<br>2010: 10380.26<br>2011: 14057.56<br>2012: 18411.25<br>2013: 22318.65<br>2014: 29645.05<br>2015: 44081.1\", \"<br>2010: 19095643.27<br>2011: 18204514.85<br>2012: 18940276.02<br>2013: 17835501.7<br>2014: 18052949.81<br>2015: 17670616.67\", \"<br>2010: 18742266.67<br>2011: 18820319.55<br>2012: 19267902.29<br>2013: 18549122.13<br>2014: 18035909.8<br>2015: 17755216.77\", \"<br>2010: 4822.66<br>2011: 5578.56<br>2012: 6372.31<br>2013: 21549.9<br>2014: 50874.7<br>2015: 79904.6\", \"<br>2010: 184.8<br>2011: 332.23<br>2012: 1727.77<br>2013: 3546.13<br>2014: 4265.73<br>2015: 9222.28\", \"<br>2010: 89753.27<br>2011: 109745.27<br>2012: 129493.68<br>2013: 148156.85<br>2014: 167806.22<br>2015: 176483.9\", \"<br>2010: 9232548.52<br>2011: 9380672.31<br>2012: 9738023.02<br>2013: 9521482.11<br>2014: 9438491.14<br>2015: 9841609.4\", \"<br>2010: 14321565.18<br>2011: 14700163.67<br>2012: 15000803.63<br>2013: 14681673.2<br>2014: 13928837.73<br>2015: 12868266.98\", \"<br>2010: 7518.77<br>2011: 12683.85<br>2012: 13350.64<br>2013: 13208.44<br>2014: 13039.35<br>2015: 17643.83\", \"<br>2010: 3817.78<br>2011: 4178.1<br>2012: 4309.38<br>2013: 5519.98<br>2014: 8090.96<br>2015: 6886.79\", \"<br>2010: 6143.5<br>2011: 6407.47<br>2012: 9112.66<br>2013: 11093.1<br>2014: 14718.98<br>2015: 15257.78\", \"<br>2010: 935134.49<br>2011: 911312.4<br>2012: 786867.4<br>2013: 944038.45<br>2014: 946824.69<br>2015: 1177427.89\", \"<br>2010: 13724.96<br>2011: 19393.24<br>2012: 32664.02<br>2013: 37750.09<br>2014: 48204.65<br>2015: 55045.98\", \"<br>2010: 4887.37<br>2011: 9179.79<br>2012: 9537.42<br>2013: 11226.9<br>2014: 15852.43<br>2015: 19051.11\", \"<br>2010: 68413.44<br>2011: 58747.18<br>2012: 70540.28<br>2013: 78440.18<br>2014: 85461.15<br>2015: 99595.65\", \"<br>2010: 71390.8<br>2011: 81163.65<br>2012: 98359.97<br>2013: 101715.41<br>2014: 109386.36<br>2015: 109219.49\", \"<br>2010: 72352.47<br>2011: 91092.86<br>2012: 107665.45<br>2013: 127180.29<br>2014: 132815.26<br>2015: 139668.98\", \"<br>2010: 63027.57<br>2011: 74120.55<br>2012: 75360.92<br>2013: 89731.45<br>2014: 102880.25<br>2015: 113778.85\", \"<br>2010: 88631.9<br>2011: 114906.5<br>2012: 124123.97<br>2013: 122877.92<br>2014: 131706.8<br>2015: 136646.89\", \"<br>2010: 129159.89<br>2011: 198151.04<br>2012: 284832.91<br>2013: 272746.16<br>2014: 419973.01<br>2015: 541888.77\", \"<br>2010: 212445.88<br>2011: 259668.58<br>2012: 232657.19<br>2013: 253317.42<br>2014: 285724.01<br>2015: 314372.67\", \"<br>2010: 12455434.53<br>2011: 12278066.32<br>2012: 12808818.03<br>2013: 12586027.39<br>2014: 12357181.24<br>2015: 12493739.84\", \"<br>2010: 5188.87<br>2011: 6646.41<br>2012: 8051.63<br>2013: 10044.08<br>2014: 13409.98<br>2015: 11793.55\", \"<br>2010: 42673.97<br>2011: 50457.49<br>2012: 52892.54<br>2013: 55867.96<br>2014: 64297.3<br>2015: 68278.32\", \"<br>2010: 6943748.84<br>2011: 6600785.11<br>2012: 6735801.22<br>2013: 6515751.81<br>2014: 6311082.55<br>2015: 6028220.92\", \"<br>2010: 0.0<br>2011: 0.0<br>2012: 0.0<br>2013: 133.11<br>2014: 1363.95<br>2015: 1891.37\", \"<br>2010: 4950.25<br>2011: 5885.5<br>2012: 6780.45<br>2013: 2073.18<br>2014: 12738.17<br>2015: 10792.33\", \"<br>2010: 2885016.06<br>2011: 2734941.12<br>2012: 2927305.84<br>2013: 2854790.85<br>2014: 2745595.26<br>2015: 2856383.87\", \"<br>2010: 6920666.14<br>2011: 5908969.19<br>2012: 4572952.86<br>2013: 4264380.69<br>2014: 4316395.59<br>2015: 3219516.57\", \"<br>2010: 9364.7<br>2011: 14169.83<br>2012: 17164.28<br>2013: 18327.17<br>2014: 26140.3<br>2015: 25974.86\", \"<br>2010: 939.85<br>2011: 1790.02<br>2012: 3647.33<br>2013: 4561.27<br>2014: 6322.08<br>2015: 6010.43\", \"<br>2010: 6376824.8<br>2011: 5779655.18<br>2012: 6830823.99<br>2013: 7166945.25<br>2014: 6746563.9<br>2015: 7218436.33\", \"<br>2010: 18272288.93<br>2011: 18312552.08<br>2012: 17318045.77<br>2013: 16646929.63<br>2014: 17042634.64<br>2015: 18042852.11\", \"<br>2010: 2937.63<br>2011: 3593.6<br>2012: 3706.66<br>2013: 3141.24<br>2014: 5620.53<br>2015: 6990.95\", \"<br>2010: 659065.27<br>2011: 772698.31<br>2012: 847409.27<br>2013: 935395.5<br>2014: 1031603.39<br>2015: 1082117.89\", \"<br>2010: 2685440.45<br>2011: 3128166.8<br>2012: 3411033.49<br>2013: 4003618.11<br>2014: 4246684.37<br>2015: 4141056.02\", \"<br>2010: 1613.0<br>2011: 1692.0<br>2012: 2021.32<br>2013: 4181.58<br>2014: 4949.18<br>2015: 5592.76\", \"<br>2010: 6346.93<br>2011: 10771.16<br>2012: 12903.66<br>2013: 17725.52<br>2014: 21211.65<br>2015: 24319.79\", \"<br>2010: 97.6<br>2011: 424.14<br>2012: 619.7<br>2013: 785.06<br>2014: 823.65<br>2015: 1028.03\", \"<br>2010: 112.1<br>2011: 1051.89<br>2012: 380277.0<br>2013: 560336.92<br>2014: 696681.85<br>2015: 1073651.26\", \"<br>2010: 18985409.81<br>2011: 18934858.19<br>2012: 17941441.31<br>2013: 18372898.87<br>2014: 18837767.01<br>2015: 18138800.58\", \"<br>2010: 28681.77<br>2011: 40477.43<br>2012: 62120.44<br>2013: 80300.79<br>2014: 101610.11<br>2015: 117512.5\", \"<br>2010: 12809681.79<br>2011: 12531661.75<br>2012: 13408374.35<br>2013: 12891463.92<br>2014: 12259344.53<br>2015: 11190922.96\", \"<br>2010: 248184.49<br>2011: 289840.71<br>2012: 273965.87<br>2013: 271560.29<br>2014: 258101.46<br>2015: 264417.4\", \"<br>2010: 128996.61<br>2011: 121471.16<br>2012: 116944.26<br>2013: 125917.12<br>2014: 140870.39<br>2015: 163285.81\", \"<br>2010: 10240080.7<br>2011: 9002320.57<br>2012: 8884190.43<br>2013: 9038409.69<br>2014: 9100215.78<br>2015: 9089798.44\", \"<br>2010: 569.55<br>2011: 120.33<br>2012: 23.18<br>2013: 87.86<br>2014: 43.45<br>2015: 60.86\", \"<br>2010: 1649.54<br>2011: 1916.37<br>2012: 2580.15<br>2013: 2755.25<br>2014: 2447.42<br>2015: 3409.94\"]}], {\"title\": \"Average Beer Production by State from 2010 to 2015\", \"geo\": {\"scope\": \"usa\"}}, {\"showLink\": true, \"linkText\": \"Export to plot.ly\"})});</script>"
      ]
     },
     "metadata": {},
     "output_type": "display_data"
    }
   ],
   "source": [
    "iplot(choromap)"
   ]
  },
  {
   "cell_type": "code",
   "execution_count": 17,
   "metadata": {
    "collapsed": false
   },
   "outputs": [
    {
     "data": {
      "text/plain": [
       "Index(['2010', '2011', '2012', '2013', '2014', '2015', 'State', 'avrg',\n",
       "       'info'],\n",
       "      dtype='object')"
      ]
     },
     "execution_count": 17,
     "metadata": {},
     "output_type": "execute_result"
    }
   ],
   "source": [
    "beerClean.columns"
   ]
  },
  {
   "cell_type": "code",
   "execution_count": 18,
   "metadata": {
    "collapsed": false
   },
   "outputs": [
    {
     "data": {
      "text/plain": [
       "<matplotlib.text.Text at 0x112f9afd0>"
      ]
     },
     "execution_count": 18,
     "metadata": {},
     "output_type": "execute_result"
    },
    {
     "data": {
      "image/png": "[encoded data removed]",
      "text/plain": [
       "<matplotlib.figure.Figure at 0x112f6d208>"
      ]
     },
     "metadata": {},
     "output_type": "display_data"
    }
   ],
   "source": [
    "plt.figure(figsize=(10,10))\n",
    "ax = sns.barplot(x='avrg',y='State',data=beerClean.sort_values(by='avrg',ascending=False),palette=sns.color_palette(\"Blues_d\"))\n",
    "ax.set_xlabel('average beer cans produced in ten millions ',fontsize=20)\n",
    "ax.set_ylabel('State ',fontsize=20)\n",
    "plt.title('Production of beer cans in the U.S from 2010-2015',fontsize=20)"
   ]
  },
  {
   "cell_type": "code",
   "execution_count": 19,
   "metadata": {
    "collapsed": false
   },
   "outputs": [
    {
     "data": {
      "text/plain": [
       "<matplotlib.text.Text at 0x113732908>"
      ]
     },
     "execution_count": 19,
     "metadata": {},
     "output_type": "execute_result"
    },
    {
     "data": {
      "image/png": "[encoded data removed]",
      "text/plain": [
       "<matplotlib.figure.Figure at 0x1130604e0>"
      ]
     },
     "metadata": {},
     "output_type": "display_data"
    }
   ],
   "source": [
    "plt.rcParams['figure.figsize']=[15,15]\n",
    "fig, axs = plt.subplots(2,3)\n",
    "\n",
    "ax= sns.barplot(x='2010',y='State',data=beerClean.sort_values('2010',ascending=False),ax=axs[0,0],palette=sns.dark_palette(\"purple\"))\n",
    "ax.set_xlabel('Production in 10 Millions')\n",
    "ax.set_title('2010')\n",
    "\n",
    "ax= sns.barplot(x='2011',y='State',data=beerClean.sort_values('2011',ascending=False),ax=axs[0,1],palette=sns.dark_palette(\"purple\"))\n",
    "ax.set_xlabel('Production in 10 Millions')\n",
    "ax.set_title('2011')\n",
    "\n",
    "ax= sns.barplot(x='2012',y='State',data=beerClean.sort_values('2012',ascending=False),ax=axs[0,2],palette=sns.dark_palette(\"purple\"))\n",
    "ax.set_xlabel('Production in 10 Millions')\n",
    "ax.set_title('2012')\n",
    "\n",
    "ax= sns.barplot(x='2013',y='State',data=beerClean.sort_values('2013',ascending=False),ax=axs[1,0],palette=sns.dark_palette(\"purple\"))\n",
    "ax.set_xlabel('Production in 10 Millions')\n",
    "ax.set_title('2013')\n",
    "\n",
    "ax= sns.barplot(x='2014',y='State',data=beerClean.sort_values('2014',ascending=False),ax=axs[1,1],palette=sns.dark_palette(\"purple\"))\n",
    "ax.set_xlabel('Production in 10 Millions')\n",
    "ax.set_title('2014')\n",
    "\n",
    "ax= sns.barplot(x='2015',y='State',data=beerClean.sort_values('2015',ascending=False),ax=axs[1,2],palette=sns.dark_palette(\"purple\"))\n",
    "ax.set_xlabel('Production in 10 Millions')\n",
    "ax.set_title('2015')"
   ]
  },
  {
   "cell_type": "markdown",
   "metadata": {},
   "source": [
    "**Conclusion**: Overall, Texas, Colorado, and California tend to be the major producers of beer cans in the U.S. Only in 2015, Ohio produced more beer cans than Colorado and California."
   ]
  }
 ],
 "metadata": {
  "anaconda-cloud": {},
  "kernelspec": {
   "display_name": "Python [conda root]",
   "language": "python",
   "name": "conda-root-py"
  },
  "language_info": {
   "codemirror_mode": {
    "name": "ipython",
    "version": 3
   },
   "file_extension": ".py",
   "mimetype": "text/x-python",
   "name": "python",
   "nbconvert_exporter": "python",
   "pygments_lexer": "ipython3",
   "version": "3.5.2"
  }
 },
 "nbformat": 4,
 "nbformat_minor": 1
}
